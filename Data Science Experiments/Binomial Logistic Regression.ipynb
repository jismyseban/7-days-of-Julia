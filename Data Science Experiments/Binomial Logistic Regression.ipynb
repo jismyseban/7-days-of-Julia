{
 "cells": [
  {
   "cell_type": "code",
   "execution_count": 109,
   "metadata": {
    "scrolled": true
   },
   "outputs": [
    {
     "data": {
      "text/html": [
       "<table class=\"data-frame\"><thead><tr><th></th><th>Column1</th><th>Column2</th><th>Column3</th></tr><tr><th></th><th>Float64</th><th>Float64</th><th>Float64</th></tr></thead><tbody><p>100 rows × 3 columns</p><tr><th>1</th><td>4.5192</td><td>2.6487</td><td>1.0</td></tr><tr><th>2</th><td>2.4443</td><td>1.5438</td><td>1.0</td></tr><tr><th>3</th><td>4.2409</td><td>1.899</td><td>1.0</td></tr><tr><th>4</th><td>5.8097</td><td>2.4711</td><td>1.0</td></tr><tr><th>5</th><td>6.4423</td><td>3.359</td><td>1.0</td></tr><tr><th>6</th><td>5.8097</td><td>3.2406</td><td>1.0</td></tr><tr><th>7</th><td>6.3917</td><td>3.8128</td><td>1.0</td></tr><tr><th>8</th><td>6.8725</td><td>4.4441</td><td>1.0</td></tr><tr><th>9</th><td>6.7966</td><td>3.6747</td><td>1.0</td></tr><tr><th>10</th><td>8.163</td><td>4.7401</td><td>1.0</td></tr><tr><th>11</th><td>7.4038</td><td>3.8917</td><td>1.0</td></tr><tr><th>12</th><td>7.6316</td><td>4.602</td><td>1.0</td></tr><tr><th>13</th><td>7.7581</td><td>5.7265</td><td>1.0</td></tr><tr><th>14</th><td>6.5688</td><td>4.9571</td><td>1.0</td></tr><tr><th>15</th><td>5.3543</td><td>3.9903</td><td>1.0</td></tr><tr><th>16</th><td>4.4686</td><td>3.0236</td><td>1.0</td></tr><tr><th>17</th><td>2.9757</td><td>2.0568</td><td>1.0</td></tr><tr><th>18</th><td>2.4443</td><td>1.2676</td><td>1.0</td></tr><tr><th>19</th><td>0.9008</td><td>1.169</td><td>1.0</td></tr><tr><th>20</th><td>2.1154</td><td>1.7411</td><td>1.0</td></tr><tr><th>21</th><td>3.2794</td><td>1.386</td><td>1.0</td></tr><tr><th>22</th><td>4.165</td><td>1.5636</td><td>1.0</td></tr><tr><th>23</th><td>4.8482</td><td>1.8793</td><td>1.0</td></tr><tr><th>24</th><td>3.33</td><td>2.7868</td><td>1.0</td></tr><tr><th>25</th><td>5.1518</td><td>3.5563</td><td>1.0</td></tr><tr><th>26</th><td>6.2652</td><td>4.0693</td><td>1.0</td></tr><tr><th>27</th><td>6.2652</td><td>4.3849</td><td>1.0</td></tr><tr><th>28</th><td>7.2014</td><td>1.5438</td><td>1.0</td></tr><tr><th>29</th><td>7.6569</td><td>2.412</td><td>1.0</td></tr><tr><th>30</th><td>6.1387</td><td>1.7806</td><td>1.0</td></tr><tr><th>&vellip;</th><td>&vellip;</td><td>&vellip;</td><td>&vellip;</td></tr></tbody></table>"
      ],
      "text/latex": [
       "\\begin{tabular}{r|ccc}\n",
       "\t& Column1 & Column2 & Column3\\\\\n",
       "\t\\hline\n",
       "\t& Float64 & Float64 & Float64\\\\\n",
       "\t\\hline\n",
       "\t1 & 4.5192 & 2.6487 & 1.0 \\\\\n",
       "\t2 & 2.4443 & 1.5438 & 1.0 \\\\\n",
       "\t3 & 4.2409 & 1.899 & 1.0 \\\\\n",
       "\t4 & 5.8097 & 2.4711 & 1.0 \\\\\n",
       "\t5 & 6.4423 & 3.359 & 1.0 \\\\\n",
       "\t6 & 5.8097 & 3.2406 & 1.0 \\\\\n",
       "\t7 & 6.3917 & 3.8128 & 1.0 \\\\\n",
       "\t8 & 6.8725 & 4.4441 & 1.0 \\\\\n",
       "\t9 & 6.7966 & 3.6747 & 1.0 \\\\\n",
       "\t10 & 8.163 & 4.7401 & 1.0 \\\\\n",
       "\t11 & 7.4038 & 3.8917 & 1.0 \\\\\n",
       "\t12 & 7.6316 & 4.602 & 1.0 \\\\\n",
       "\t13 & 7.7581 & 5.7265 & 1.0 \\\\\n",
       "\t14 & 6.5688 & 4.9571 & 1.0 \\\\\n",
       "\t15 & 5.3543 & 3.9903 & 1.0 \\\\\n",
       "\t16 & 4.4686 & 3.0236 & 1.0 \\\\\n",
       "\t17 & 2.9757 & 2.0568 & 1.0 \\\\\n",
       "\t18 & 2.4443 & 1.2676 & 1.0 \\\\\n",
       "\t19 & 0.9008 & 1.169 & 1.0 \\\\\n",
       "\t20 & 2.1154 & 1.7411 & 1.0 \\\\\n",
       "\t21 & 3.2794 & 1.386 & 1.0 \\\\\n",
       "\t22 & 4.165 & 1.5636 & 1.0 \\\\\n",
       "\t23 & 4.8482 & 1.8793 & 1.0 \\\\\n",
       "\t24 & 3.33 & 2.7868 & 1.0 \\\\\n",
       "\t25 & 5.1518 & 3.5563 & 1.0 \\\\\n",
       "\t26 & 6.2652 & 4.0693 & 1.0 \\\\\n",
       "\t27 & 6.2652 & 4.3849 & 1.0 \\\\\n",
       "\t28 & 7.2014 & 1.5438 & 1.0 \\\\\n",
       "\t29 & 7.6569 & 2.412 & 1.0 \\\\\n",
       "\t30 & 6.1387 & 1.7806 & 1.0 \\\\\n",
       "\t$\\dots$ & $\\dots$ & $\\dots$ & $\\dots$ \\\\\n",
       "\\end{tabular}\n"
      ],
      "text/plain": [
       "100×3 DataFrames.DataFrame\n",
       "│ Row │ Column1 │ Column2 │ Column3 │\n",
       "│     │ \u001b[90mFloat64\u001b[39m │ \u001b[90mFloat64\u001b[39m │ \u001b[90mFloat64\u001b[39m │\n",
       "├─────┼─────────┼─────────┼─────────┤\n",
       "│ 1   │ 4.5192  │ 2.6487  │ 1.0     │\n",
       "│ 2   │ 2.4443  │ 1.5438  │ 1.0     │\n",
       "│ 3   │ 4.2409  │ 1.899   │ 1.0     │\n",
       "│ 4   │ 5.8097  │ 2.4711  │ 1.0     │\n",
       "│ 5   │ 6.4423  │ 3.359   │ 1.0     │\n",
       "│ 6   │ 5.8097  │ 3.2406  │ 1.0     │\n",
       "│ 7   │ 6.3917  │ 3.8128  │ 1.0     │\n",
       "│ 8   │ 6.8725  │ 4.4441  │ 1.0     │\n",
       "│ 9   │ 6.7966  │ 3.6747  │ 1.0     │\n",
       "│ 10  │ 8.163   │ 4.7401  │ 1.0     │\n",
       "⋮\n",
       "│ 90  │ 2.3937  │ 7.2063  │ 0.0     │\n",
       "│ 91  │ 1.331   │ 6.5355  │ 0.0     │\n",
       "│ 92  │ 1.7358  │ 5.4503  │ 0.0     │\n",
       "│ 93  │ 2.4443  │ 5.8449  │ 0.0     │\n",
       "│ 94  │ 3.1781  │ 4.8979  │ 0.0     │\n",
       "│ 95  │ 4.6711  │ 5.8055  │ 0.0     │\n",
       "│ 96  │ 5.9868  │ 7.3641  │ 0.0     │\n",
       "│ 97  │ 4.6711  │ 6.2592  │ 0.0     │\n",
       "│ 98  │ 7.581   │ 8.3703  │ 0.0     │\n",
       "│ 99  │ 4.6457  │ 8.5676  │ 0.0     │\n",
       "│ 100 │ 4.6457  │ 8.1676  │ 0.0     │"
      ]
     },
     "execution_count": 109,
     "metadata": {},
     "output_type": "execute_result"
    }
   ],
   "source": [
    "using CSV, Statistics\n",
    "data = CSV.read(\"logit_dataset.csv\",header=false)"
   ]
  },
  {
   "cell_type": "code",
   "execution_count": 85,
   "metadata": {
    "collapsed": true
   },
   "outputs": [
    {
     "name": "stderr",
     "output_type": "stream",
     "text": [
      "┌ Warning: `getindex(df::DataFrame, col_inds::Union{AbstractVector, Regex, Not})` is deprecated, use `df[:, col_inds]` instead.\n",
      "│   caller = top-level scope at In[85]:1\n",
      "└ @ Core In[85]:1\n",
      "┌ Warning: `convert(::Type{Array}, df::AbstractDataFrame)` is deprecated, use `convert(Matrix, df)` instead.\n",
      "│   caller = top-level scope at In[85]:1\n",
      "└ @ Core In[85]:1\n",
      "┌ Warning: `getindex(df::DataFrame, col_ind::ColumnIndex)` is deprecated, use `df[!, col_ind]` instead.\n",
      "│   caller = top-level scope at In[85]:4\n",
      "└ @ Core In[85]:4\n"
     ]
    },
    {
     "data": {
      "text/plain": [
       "1×3 Array{Float64,2}:\n",
       " 0.0  0.0  0.0"
      ]
     },
     "execution_count": 85,
     "metadata": {},
     "output_type": "execute_result"
    }
   ],
   "source": [
    "X = convert(Array,data[[:Column1,:Column2]])\n",
    "X = normalise(X)\n",
    "X = hcat(ones(size(X)[1],1),X)\n",
    "\n",
    "y = convert(Array,data[end])\n",
    "beta = (zeros(size(X)[2])) \n",
    "beta = reshape(beta,1, length(beta))"
   ]
  },
  {
   "cell_type": "code",
   "execution_count": 20,
   "metadata": {},
   "outputs": [
    {
     "data": {
      "text/plain": [
       "normalise (generic function with 1 method)"
      ]
     },
     "execution_count": 20,
     "metadata": {},
     "output_type": "execute_result"
    }
   ],
   "source": [
    "function normalise(X ::Array)\n",
    "    \"\"\"\n",
    "    normalising the X matrix with min-max normalization\n",
    "    \"\"\"\n",
    "    mins = minimum(X,dims = 1)\n",
    "    maxs = maximum(X,dims = 1)\n",
    "    rang = maxs-mins\n",
    "    norm_X = 1 .- ((maxs .- X)./rang) \n",
    "    return norm_X \n",
    "end"
   ]
  },
  {
   "cell_type": "code",
   "execution_count": 90,
   "metadata": {},
   "outputs": [
    {
     "data": {
      "text/plain": [
       "logistic_func (generic function with 1 method)"
      ]
     },
     "execution_count": 90,
     "metadata": {},
     "output_type": "execute_result"
    }
   ],
   "source": [
    "function logistic_func(beta, X)\n",
    "    \"\"\"\n",
    "    logistic(sigmoid) function \n",
    "    h(x) = 1/(1+e^(-bx))\n",
    "    \"\"\"\n",
    "    return 1.0./(1 .+ exp.(-X* transpose(beta)))\n",
    "end"
   ]
  },
  {
   "cell_type": "code",
   "execution_count": 100,
   "metadata": {},
   "outputs": [
    {
     "data": {
      "text/plain": [
       "log_gradient (generic function with 1 method)"
      ]
     },
     "execution_count": 100,
     "metadata": {},
     "output_type": "execute_result"
    }
   ],
   "source": [
    "function log_gradient(beta, X, y)\n",
    "    \"\"\"\n",
    "    logistic gradient function \n",
    "    \"\"\"\n",
    "    first_calc = logistic_func(beta, X) - reshape(y,size(X)[1],1)\n",
    "    final_calc = (transpose(first_calc)* X) \n",
    "    return final_calc\n",
    "end"
   ]
  },
  {
   "cell_type": "code",
   "execution_count": 150,
   "metadata": {},
   "outputs": [
    {
     "data": {
      "text/plain": [
       "cost_func (generic function with 1 method)"
      ]
     },
     "execution_count": 150,
     "metadata": {},
     "output_type": "execute_result"
    }
   ],
   "source": [
    "function cost_func(beta, X, y)\n",
    "    \"\"\" \n",
    "    cost function, J \n",
    "    \"\"\"\n",
    "    log_func_v = logistic_func(beta, X) \n",
    "    y = dropdims(y, dims = (findall(size(y) .== 1)...,)) \n",
    "    step1 = y .* log.(log_func_v) \n",
    "    step2 = (1 - y) .* log.(1 - log_func_v) \n",
    "    final = -step1 - step2 \n",
    "    return mean(final)\n",
    "end"
   ]
  },
  {
   "cell_type": "code",
   "execution_count": 129,
   "metadata": {},
   "outputs": [
    {
     "data": {
      "text/plain": [
       "1×3 Array{Float64,2}:\n",
       " 0.0  -5.06307  9.15966"
      ]
     },
     "execution_count": 129,
     "metadata": {},
     "output_type": "execute_result"
    }
   ],
   "source": [
    "log_gradient(beta, X, y)"
   ]
  },
  {
   "cell_type": "code",
   "execution_count": 151,
   "metadata": {},
   "outputs": [
    {
     "ename": "MethodError",
     "evalue": "MethodError: no method matching -(::Int64, ::Array{Float64,1})\nClosest candidates are:\n  -(::Union{Int128, Int16, Int32, Int64, Int8, UInt128, UInt16, UInt32, UInt64, UInt8}) at int.jl:51\n  -(::T<:Union{Int128, Int16, Int32, Int64, Int8, UInt128, UInt16, UInt32, UInt64, UInt8}, !Matched::T<:Union{Int128, Int16, Int32, Int64, Int8, UInt128, UInt16, UInt32, UInt64, UInt8}) where T<:Union{Int128, Int16, Int32, Int64, Int8, UInt128, UInt16, UInt32, UInt64, UInt8} at int.jl:52\n  -(::Union{Int16, Int32, Int64, Int8}, !Matched::BigInt) at gmp.jl:449\n  ...",
     "output_type": "error",
     "traceback": [
      "MethodError: no method matching -(::Int64, ::Array{Float64,1})\nClosest candidates are:\n  -(::Union{Int128, Int16, Int32, Int64, Int8, UInt128, UInt16, UInt32, UInt64, UInt8}) at int.jl:51\n  -(::T<:Union{Int128, Int16, Int32, Int64, Int8, UInt128, UInt16, UInt32, UInt64, UInt8}, !Matched::T<:Union{Int128, Int16, Int32, Int64, Int8, UInt128, UInt16, UInt32, UInt64, UInt8}) where T<:Union{Int128, Int16, Int32, Int64, Int8, UInt128, UInt16, UInt32, UInt64, UInt8} at int.jl:52\n  -(::Union{Int16, Int32, Int64, Int8}, !Matched::BigInt) at gmp.jl:449\n  ...",
      "",
      "Stacktrace:",
      " [1] cost_func(::Array{Float64,2}, ::Array{Float64,2}, ::Array{Float64,1}) at ./In[150]:8",
      " [2] top-level scope at In[151]:1"
     ]
    }
   ],
   "source": [
    "cost_func(beta, X, y)"
   ]
  },
  {
   "cell_type": "code",
   "execution_count": 145,
   "metadata": {},
   "outputs": [
    {
     "data": {
      "text/plain": [
       "100×1 Array{Float64,2}:\n",
       " -0.6931471805599453\n",
       " -0.6931471805599453\n",
       " -0.6931471805599453\n",
       " -0.6931471805599453\n",
       " -0.6931471805599453\n",
       " -0.6931471805599453\n",
       " -0.6931471805599453\n",
       " -0.6931471805599453\n",
       " -0.6931471805599453\n",
       " -0.6931471805599453\n",
       " -0.6931471805599453\n",
       " -0.6931471805599453\n",
       " -0.6931471805599453\n",
       "  ⋮                 \n",
       " -0.0               \n",
       " -0.0               \n",
       " -0.0               \n",
       " -0.0               \n",
       " -0.0               \n",
       " -0.0               \n",
       " -0.0               \n",
       " -0.0               \n",
       " -0.0               \n",
       " -0.0               \n",
       " -0.0               \n",
       " -0.0               "
      ]
     },
     "execution_count": 145,
     "metadata": {},
     "output_type": "execute_result"
    }
   ],
   "source": [
    "y .* log.(logistic_func(beta, X) )"
   ]
  },
  {
   "cell_type": "code",
   "execution_count": null,
   "metadata": {},
   "outputs": [],
   "source": []
  }
 ],
 "metadata": {
  "kernelspec": {
   "display_name": "Julia 1.1.1",
   "language": "julia",
   "name": "julia-1.1"
  },
  "language_info": {
   "file_extension": ".jl",
   "mimetype": "application/julia",
   "name": "julia",
   "version": "1.1.1"
  }
 },
 "nbformat": 4,
 "nbformat_minor": 2
}
