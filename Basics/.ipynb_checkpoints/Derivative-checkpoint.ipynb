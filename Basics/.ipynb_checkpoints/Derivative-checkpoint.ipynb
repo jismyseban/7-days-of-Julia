{
 "cells": [
  {
   "cell_type": "code",
   "execution_count": null,
   "metadata": {},
   "outputs": [],
   "source": [
    "function get_derivative(func,x)\n",
    "    h = 0.001\n",
    "    return((func(x+h)-func(x))/h)\n",
    "end\n",
    "f(x)=x^2\n",
    "    "
   ]
  }
 ],
 "metadata": {
  "kernelspec": {
   "display_name": "Julia 1.1.1",
   "language": "julia",
   "name": "julia-1.1"
  },
  "language_info": {
   "file_extension": ".jl",
   "mimetype": "application/julia",
   "name": "julia",
   "version": "1.1.1"
  }
 },
 "nbformat": 4,
 "nbformat_minor": 2
}
