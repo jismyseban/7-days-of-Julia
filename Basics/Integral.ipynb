{
 "cells": [
  {
   "cell_type": "markdown",
   "metadata": {},
   "source": [
    "### To compute the integral of a fucntion calcualte the sum of are under the figure. Consider it as rectangles it width 'h' nd height f(x)\n"
   ]
  },
  {
   "attachments": {
    "image.png": {
     "image/png": "[encoded data removed]"
    }
   },
   "cell_type": "markdown",
   "metadata": {},
   "source": [
    "![image.png](attachment:image.png)"
   ]
  },
  {
   "cell_type": "code",
   "execution_count": 6,
   "metadata": {},
   "outputs": [
    {
     "data": {
      "text/plain": [
       "(38.998950005055285, 39.0)"
      ]
     },
     "execution_count": 6,
     "metadata": {},
     "output_type": "execute_result"
    }
   ],
   "source": [
    "function get_integral(func,a,b)\n",
    "    h = 0.0001\n",
    "    x = a\n",
    "    total = 0\n",
    "    while x<=b\n",
    "        total += h*func(x)\n",
    "        x += h\n",
    "    end\n",
    "    return total\n",
    "end\n",
    "\n",
    "f(x) = x^2\n",
    "actualF(x) = (1/3)*x^3\n",
    "a = 2\n",
    "b = 5\n",
    "calculated = get_integral(f,a,b)\n",
    "actual = actualF(b)-actualF(a)\n",
    "calculated,actual"
   ]
  },
  {
   "cell_type": "code",
   "execution_count": null,
   "metadata": {},
   "outputs": [],
   "source": []
  }
 ],
 "metadata": {
  "kernelspec": {
   "display_name": "Julia 1.1.1",
   "language": "julia",
   "name": "julia-1.1"
  },
  "language_info": {
   "file_extension": ".jl",
   "mimetype": "application/julia",
   "name": "julia",
   "version": "1.1.1"
  }
 },
 "nbformat": 4,
 "nbformat_minor": 2
}
