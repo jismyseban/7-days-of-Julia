{
 "cells": [
  {
   "cell_type": "code",
   "execution_count": 1,
   "metadata": {},
   "outputs": [
    {
     "name": "stderr",
     "output_type": "stream",
     "text": [
      "┌ Warning: The following symbols will not be exported in future releases: chain, chain!, drop, drop!, interp and interp!.\n",
      "│ Please qualify your calls with `Impute.<method>(...)` or explicitly import the symbol.\n",
      "└ @ Impute /home/jismysebastian/.julia/dev/Impute/src/Impute.jl:15\n",
      "┌ Warning: The default limit for all impute functions will be 1.0 going forward.\n",
      "│ If you depend on a specific threshold please pass in an appropriate `AbstractContext`.\n",
      "└ @ Impute /home/jismysebastian/.julia/dev/Impute/src/Impute.jl:22\n"
     ]
    }
   ],
   "source": [
    "using DataFrames,CSV\n",
    "using StatsBase\n",
    "using Impute"
   ]
  },
  {
   "cell_type": "code",
   "execution_count": 2,
   "metadata": {
    "scrolled": true
   },
   "outputs": [
    {
     "name": "stderr",
     "output_type": "stream",
     "text": [
      "┌ Warning: readtable is deprecated, use CSV.read from the CSV package instead\n",
      "│   caller = top-level scope at In[2]:1\n",
      "└ @ Core In[2]:1\n",
      "┌ Warning: readtable is deprecated, use CSV.read from the CSV package instead\n",
      "│   caller = top-level scope at In[2]:2\n",
      "└ @ Core In[2]:2\n",
      "┌ Warning: readtable is deprecated, use CSV.read from the CSV package instead\n",
      "│   caller = top-level scope at In[2]:3\n",
      "└ @ Core In[2]:3\n"
     ]
    },
    {
     "data": {
      "text/html": [
       "<table class=\"data-frame\"><thead><tr><th></th><th>Loan_ID</th><th>Loan_Status</th></tr><tr><th></th><th>String⍰</th><th>String⍰</th></tr></thead><tbody><p>367 rows × 2 columns</p><tr><th>1</th><td>LP001015</td><td>N</td></tr><tr><th>2</th><td>LP001022</td><td>N</td></tr><tr><th>3</th><td>LP001031</td><td>N</td></tr><tr><th>4</th><td>LP001035</td><td>N</td></tr><tr><th>5</th><td>LP001051</td><td>N</td></tr><tr><th>6</th><td>LP001054</td><td>N</td></tr><tr><th>7</th><td>LP001055</td><td>N</td></tr><tr><th>8</th><td>LP001056</td><td>N</td></tr><tr><th>9</th><td>LP001059</td><td>N</td></tr><tr><th>10</th><td>LP001067</td><td>N</td></tr><tr><th>11</th><td>LP001078</td><td>N</td></tr><tr><th>12</th><td>LP001082</td><td>N</td></tr><tr><th>13</th><td>LP001083</td><td>N</td></tr><tr><th>14</th><td>LP001094</td><td>N</td></tr><tr><th>15</th><td>LP001096</td><td>N</td></tr><tr><th>16</th><td>LP001099</td><td>N</td></tr><tr><th>17</th><td>LP001105</td><td>N</td></tr><tr><th>18</th><td>LP001107</td><td>N</td></tr><tr><th>19</th><td>LP001108</td><td>N</td></tr><tr><th>20</th><td>LP001115</td><td>N</td></tr><tr><th>21</th><td>LP001121</td><td>N</td></tr><tr><th>22</th><td>LP001124</td><td>N</td></tr><tr><th>23</th><td>LP001128</td><td>N</td></tr><tr><th>24</th><td>LP001135</td><td>N</td></tr><tr><th>25</th><td>LP001149</td><td>N</td></tr><tr><th>26</th><td>LP001153</td><td>N</td></tr><tr><th>27</th><td>LP001163</td><td>N</td></tr><tr><th>28</th><td>LP001169</td><td>N</td></tr><tr><th>29</th><td>LP001174</td><td>N</td></tr><tr><th>30</th><td>LP001176</td><td>N</td></tr><tr><th>&vellip;</th><td>&vellip;</td><td>&vellip;</td></tr></tbody></table>"
      ],
      "text/latex": [
       "\\begin{tabular}{r|cc}\n",
       "\t& Loan\\_ID & Loan\\_Status\\\\\n",
       "\t\\hline\n",
       "\t& String⍰ & String⍰\\\\\n",
       "\t\\hline\n",
       "\t1 & LP001015 & N \\\\\n",
       "\t2 & LP001022 & N \\\\\n",
       "\t3 & LP001031 & N \\\\\n",
       "\t4 & LP001035 & N \\\\\n",
       "\t5 & LP001051 & N \\\\\n",
       "\t6 & LP001054 & N \\\\\n",
       "\t7 & LP001055 & N \\\\\n",
       "\t8 & LP001056 & N \\\\\n",
       "\t9 & LP001059 & N \\\\\n",
       "\t10 & LP001067 & N \\\\\n",
       "\t11 & LP001078 & N \\\\\n",
       "\t12 & LP001082 & N \\\\\n",
       "\t13 & LP001083 & N \\\\\n",
       "\t14 & LP001094 & N \\\\\n",
       "\t15 & LP001096 & N \\\\\n",
       "\t16 & LP001099 & N \\\\\n",
       "\t17 & LP001105 & N \\\\\n",
       "\t18 & LP001107 & N \\\\\n",
       "\t19 & LP001108 & N \\\\\n",
       "\t20 & LP001115 & N \\\\\n",
       "\t21 & LP001121 & N \\\\\n",
       "\t22 & LP001124 & N \\\\\n",
       "\t23 & LP001128 & N \\\\\n",
       "\t24 & LP001135 & N \\\\\n",
       "\t25 & LP001149 & N \\\\\n",
       "\t26 & LP001153 & N \\\\\n",
       "\t27 & LP001163 & N \\\\\n",
       "\t28 & LP001169 & N \\\\\n",
       "\t29 & LP001174 & N \\\\\n",
       "\t30 & LP001176 & N \\\\\n",
       "\t$\\dots$ & $\\dots$ & $\\dots$ \\\\\n",
       "\\end{tabular}\n"
      ],
      "text/plain": [
       "367×2 DataFrame\n",
       "│ Row │ Loan_ID  │ Loan_Status │\n",
       "│     │ \u001b[90mString⍰\u001b[39m  │ \u001b[90mString⍰\u001b[39m     │\n",
       "├─────┼──────────┼─────────────┤\n",
       "│ 1   │ LP001015 │ N           │\n",
       "│ 2   │ LP001022 │ N           │\n",
       "│ 3   │ LP001031 │ N           │\n",
       "│ 4   │ LP001035 │ N           │\n",
       "│ 5   │ LP001051 │ N           │\n",
       "│ 6   │ LP001054 │ N           │\n",
       "│ 7   │ LP001055 │ N           │\n",
       "│ 8   │ LP001056 │ N           │\n",
       "│ 9   │ LP001059 │ N           │\n",
       "│ 10  │ LP001067 │ N           │\n",
       "⋮\n",
       "│ 357 │ LP002935 │ N           │\n",
       "│ 358 │ LP002952 │ N           │\n",
       "│ 359 │ LP002954 │ N           │\n",
       "│ 360 │ LP002962 │ N           │\n",
       "│ 361 │ LP002965 │ N           │\n",
       "│ 362 │ LP002969 │ N           │\n",
       "│ 363 │ LP002971 │ N           │\n",
       "│ 364 │ LP002975 │ N           │\n",
       "│ 365 │ LP002980 │ N           │\n",
       "│ 366 │ LP002986 │ N           │\n",
       "│ 367 │ LP002989 │ N           │"
      ]
     },
     "execution_count": 2,
     "metadata": {},
     "output_type": "execute_result"
    }
   ],
   "source": [
    " train = readtable(\"data/loan_train.csv\")\n",
    " test = readtable(\"data/loan_test.csv\")\n",
    "sample = readtable(\"data/loan_Sample.csv\")"
   ]
  },
  {
   "cell_type": "code",
   "execution_count": 3,
   "metadata": {},
   "outputs": [
    {
     "data": {
      "text/plain": [
       "(614, 13)"
      ]
     },
     "execution_count": 3,
     "metadata": {},
     "output_type": "execute_result"
    }
   ],
   "source": [
    "size(train)"
   ]
  },
  {
   "cell_type": "code",
   "execution_count": 4,
   "metadata": {},
   "outputs": [
    {
     "data": {
      "text/plain": [
       "13-element Array{Symbol,1}:\n",
       " :Loan_ID          \n",
       " :Gender           \n",
       " :Married          \n",
       " :Dependents       \n",
       " :Education        \n",
       " :Self_Employed    \n",
       " :ApplicantIncome  \n",
       " :CoapplicantIncome\n",
       " :LoanAmount       \n",
       " :Loan_Amount_Term \n",
       " :Credit_History   \n",
       " :Property_Area    \n",
       " :Loan_Status      "
      ]
     },
     "execution_count": 4,
     "metadata": {},
     "output_type": "execute_result"
    }
   ],
   "source": [
    "names(train)"
   ]
  },
  {
   "cell_type": "code",
   "execution_count": 5,
   "metadata": {},
   "outputs": [
    {
     "data": {
      "text/html": [
       "<table class=\"data-frame\"><thead><tr><th></th><th>Loan_ID</th><th>Gender</th><th>Married</th><th>Dependents</th><th>Education</th><th>Self_Employed</th><th>ApplicantIncome</th><th>CoapplicantIncome</th><th>LoanAmount</th><th>Loan_Amount_Term</th><th>Credit_History</th><th>Property_Area</th><th>Loan_Status</th></tr><tr><th></th><th>String⍰</th><th>String⍰</th><th>String⍰</th><th>String⍰</th><th>String⍰</th><th>String⍰</th><th>Int64⍰</th><th>Float64⍰</th><th>Int64⍰</th><th>Int64⍰</th><th>Int64⍰</th><th>String⍰</th><th>String⍰</th></tr></thead><tbody><p>10 rows × 13 columns</p><tr><th>1</th><td>LP001002</td><td>Male</td><td>No</td><td>0</td><td>Graduate</td><td>No</td><td>5849</td><td>0.0</td><td>missing</td><td>360</td><td>1</td><td>Urban</td><td>Y</td></tr><tr><th>2</th><td>LP001003</td><td>Male</td><td>Yes</td><td>1</td><td>Graduate</td><td>No</td><td>4583</td><td>1508.0</td><td>128</td><td>360</td><td>1</td><td>Rural</td><td>N</td></tr><tr><th>3</th><td>LP001005</td><td>Male</td><td>Yes</td><td>0</td><td>Graduate</td><td>Yes</td><td>3000</td><td>0.0</td><td>66</td><td>360</td><td>1</td><td>Urban</td><td>Y</td></tr><tr><th>4</th><td>LP001006</td><td>Male</td><td>Yes</td><td>0</td><td>Not Graduate</td><td>No</td><td>2583</td><td>2358.0</td><td>120</td><td>360</td><td>1</td><td>Urban</td><td>Y</td></tr><tr><th>5</th><td>LP001008</td><td>Male</td><td>No</td><td>0</td><td>Graduate</td><td>No</td><td>6000</td><td>0.0</td><td>141</td><td>360</td><td>1</td><td>Urban</td><td>Y</td></tr><tr><th>6</th><td>LP001011</td><td>Male</td><td>Yes</td><td>2</td><td>Graduate</td><td>Yes</td><td>5417</td><td>4196.0</td><td>267</td><td>360</td><td>1</td><td>Urban</td><td>Y</td></tr><tr><th>7</th><td>LP001013</td><td>Male</td><td>Yes</td><td>0</td><td>Not Graduate</td><td>No</td><td>2333</td><td>1516.0</td><td>95</td><td>360</td><td>1</td><td>Urban</td><td>Y</td></tr><tr><th>8</th><td>LP001014</td><td>Male</td><td>Yes</td><td>3+</td><td>Graduate</td><td>No</td><td>3036</td><td>2504.0</td><td>158</td><td>360</td><td>0</td><td>Semiurban</td><td>N</td></tr><tr><th>9</th><td>LP001018</td><td>Male</td><td>Yes</td><td>2</td><td>Graduate</td><td>No</td><td>4006</td><td>1526.0</td><td>168</td><td>360</td><td>1</td><td>Urban</td><td>Y</td></tr><tr><th>10</th><td>LP001020</td><td>Male</td><td>Yes</td><td>1</td><td>Graduate</td><td>No</td><td>12841</td><td>10968.0</td><td>349</td><td>360</td><td>1</td><td>Semiurban</td><td>N</td></tr></tbody></table>"
      ],
      "text/latex": [
       "\\begin{tabular}{r|ccccccccccccc}\n",
       "\t& Loan\\_ID & Gender & Married & Dependents & Education & Self\\_Employed & ApplicantIncome & CoapplicantIncome & LoanAmount & Loan\\_Amount\\_Term & Credit\\_History & Property\\_Area & Loan\\_Status\\\\\n",
       "\t\\hline\n",
       "\t& String⍰ & String⍰ & String⍰ & String⍰ & String⍰ & String⍰ & Int64⍰ & Float64⍰ & Int64⍰ & Int64⍰ & Int64⍰ & String⍰ & String⍰\\\\\n",
       "\t\\hline\n",
       "\t1 & LP001002 & Male & No & 0 & Graduate & No & 5849 & 0.0 &  & 360 & 1 & Urban & Y \\\\\n",
       "\t2 & LP001003 & Male & Yes & 1 & Graduate & No & 4583 & 1508.0 & 128 & 360 & 1 & Rural & N \\\\\n",
       "\t3 & LP001005 & Male & Yes & 0 & Graduate & Yes & 3000 & 0.0 & 66 & 360 & 1 & Urban & Y \\\\\n",
       "\t4 & LP001006 & Male & Yes & 0 & Not Graduate & No & 2583 & 2358.0 & 120 & 360 & 1 & Urban & Y \\\\\n",
       "\t5 & LP001008 & Male & No & 0 & Graduate & No & 6000 & 0.0 & 141 & 360 & 1 & Urban & Y \\\\\n",
       "\t6 & LP001011 & Male & Yes & 2 & Graduate & Yes & 5417 & 4196.0 & 267 & 360 & 1 & Urban & Y \\\\\n",
       "\t7 & LP001013 & Male & Yes & 0 & Not Graduate & No & 2333 & 1516.0 & 95 & 360 & 1 & Urban & Y \\\\\n",
       "\t8 & LP001014 & Male & Yes & 3+ & Graduate & No & 3036 & 2504.0 & 158 & 360 & 0 & Semiurban & N \\\\\n",
       "\t9 & LP001018 & Male & Yes & 2 & Graduate & No & 4006 & 1526.0 & 168 & 360 & 1 & Urban & Y \\\\\n",
       "\t10 & LP001020 & Male & Yes & 1 & Graduate & No & 12841 & 10968.0 & 349 & 360 & 1 & Semiurban & N \\\\\n",
       "\\end{tabular}\n"
      ],
      "text/plain": [
       "10×13 DataFrame\n",
       "│ Row │ Loan_ID  │ Gender  │ Married │ Dependents │ Education    │ Self_Employed │ ApplicantIncome │ CoapplicantIncome │ LoanAmount │ Loan_Amount_Term │ Credit_History │ Property_Area │ Loan_Status │\n",
       "│     │ \u001b[90mString⍰\u001b[39m  │ \u001b[90mString⍰\u001b[39m │ \u001b[90mString⍰\u001b[39m │ \u001b[90mString⍰\u001b[39m    │ \u001b[90mString⍰\u001b[39m      │ \u001b[90mString⍰\u001b[39m       │ \u001b[90mInt64⍰\u001b[39m          │ \u001b[90mFloat64⍰\u001b[39m          │ \u001b[90mInt64⍰\u001b[39m     │ \u001b[90mInt64⍰\u001b[39m           │ \u001b[90mInt64⍰\u001b[39m         │ \u001b[90mString⍰\u001b[39m       │ \u001b[90mString⍰\u001b[39m     │\n",
       "├─────┼──────────┼─────────┼─────────┼────────────┼──────────────┼───────────────┼─────────────────┼───────────────────┼────────────┼──────────────────┼────────────────┼───────────────┼─────────────┤\n",
       "│ 1   │ LP001002 │ Male    │ No      │ 0          │ Graduate     │ No            │ 5849            │ 0.0               │ \u001b[90mmissing\u001b[39m    │ 360              │ 1              │ Urban         │ Y           │\n",
       "│ 2   │ LP001003 │ Male    │ Yes     │ 1          │ Graduate     │ No            │ 4583            │ 1508.0            │ 128        │ 360              │ 1              │ Rural         │ N           │\n",
       "│ 3   │ LP001005 │ Male    │ Yes     │ 0          │ Graduate     │ Yes           │ 3000            │ 0.0               │ 66         │ 360              │ 1              │ Urban         │ Y           │\n",
       "│ 4   │ LP001006 │ Male    │ Yes     │ 0          │ Not Graduate │ No            │ 2583            │ 2358.0            │ 120        │ 360              │ 1              │ Urban         │ Y           │\n",
       "│ 5   │ LP001008 │ Male    │ No      │ 0          │ Graduate     │ No            │ 6000            │ 0.0               │ 141        │ 360              │ 1              │ Urban         │ Y           │\n",
       "│ 6   │ LP001011 │ Male    │ Yes     │ 2          │ Graduate     │ Yes           │ 5417            │ 4196.0            │ 267        │ 360              │ 1              │ Urban         │ Y           │\n",
       "│ 7   │ LP001013 │ Male    │ Yes     │ 0          │ Not Graduate │ No            │ 2333            │ 1516.0            │ 95         │ 360              │ 1              │ Urban         │ Y           │\n",
       "│ 8   │ LP001014 │ Male    │ Yes     │ 3+         │ Graduate     │ No            │ 3036            │ 2504.0            │ 158        │ 360              │ 0              │ Semiurban     │ N           │\n",
       "│ 9   │ LP001018 │ Male    │ Yes     │ 2          │ Graduate     │ No            │ 4006            │ 1526.0            │ 168        │ 360              │ 1              │ Urban         │ Y           │\n",
       "│ 10  │ LP001020 │ Male    │ Yes     │ 1          │ Graduate     │ No            │ 12841           │ 10968.0           │ 349        │ 360              │ 1              │ Semiurban     │ N           │"
      ]
     },
     "execution_count": 5,
     "metadata": {},
     "output_type": "execute_result"
    }
   ],
   "source": [
    "first(train,10)"
   ]
  },
  {
   "cell_type": "code",
   "execution_count": 6,
   "metadata": {},
   "outputs": [
    {
     "name": "stderr",
     "output_type": "stream",
     "text": [
      "┌ Warning: `getindex(df::DataFrame, col_ind::ColumnIndex)` is deprecated, use `df[!, col_ind]` instead.\n",
      "│   caller = top-level scope at In[6]:1\n",
      "└ @ Core In[6]:1\n"
     ]
    },
    {
     "name": "stdout",
     "output_type": "stream",
     "text": [
      "Summary Stats:\n",
      "Length:         614\n",
      "Missing Count:  22\n",
      "Mean:           146.412162\n",
      "Minimum:        9.000000\n",
      "1st Quartile:   100.000000\n",
      "Median:         128.000000\n",
      "3rd Quartile:   168.000000\n",
      "Maximum:        700.000000\n",
      "Type:           Union{Missing, Int64}\n"
     ]
    }
   ],
   "source": [
    "describe(train[:LoanAmount])"
   ]
  },
  {
   "cell_type": "code",
   "execution_count": 7,
   "metadata": {},
   "outputs": [
    {
     "name": "stderr",
     "output_type": "stream",
     "text": [
      "┌ Warning: `getindex(df::DataFrame, col_ind::ColumnIndex)` is deprecated, use `df[!, col_ind]` instead.\n",
      "│   caller = top-level scope at In[7]:1\n",
      "└ @ Core In[7]:1\n"
     ]
    },
    {
     "data": {
      "text/plain": [
       "Dict{Union{Missing, String},Int64} with 3 entries:\n",
       "  \"Urban\"     => 202\n",
       "  \"Rural\"     => 179\n",
       "  \"Semiurban\" => 233"
      ]
     },
     "execution_count": 7,
     "metadata": {},
     "output_type": "execute_result"
    }
   ],
   "source": [
    "countmap(train[:Property_Area])"
   ]
  },
  {
   "cell_type": "code",
   "execution_count": 8,
   "metadata": {},
   "outputs": [
    {
     "name": "stderr",
     "output_type": "stream",
     "text": [
      "┌ Warning: `getindex(df::DataFrame, col_ind::ColumnIndex)` is deprecated, use `df[!, col_ind]` instead.\n",
      "│   caller = top-level scope at In[8]:1\n",
      "└ @ Core In[8]:1\n"
     ]
    },
    {
     "data": {
      "text/plain": [
       "Dict{Union{Missing, String},Int64} with 3 entries:\n",
       "  \"Female\" => 112\n",
       "  \"Male\"   => 489\n",
       "  missing  => 13"
      ]
     },
     "execution_count": 8,
     "metadata": {},
     "output_type": "execute_result"
    }
   ],
   "source": [
    "countmap(train[:Gender])"
   ]
  },
  {
   "cell_type": "code",
   "execution_count": 9,
   "metadata": {},
   "outputs": [],
   "source": [
    "using Plots, StatsPlots "
   ]
  },
  {
   "cell_type": "code",
   "execution_count": 10,
   "metadata": {},
   "outputs": [
    {
     "data": {
      "text/plain": [
       "Plots.PyPlotBackend()"
      ]
     },
     "execution_count": 10,
     "metadata": {},
     "output_type": "execute_result"
    }
   ],
   "source": [
    "pyplot()     "
   ]
  },
  {
   "cell_type": "code",
   "execution_count": 11,
   "metadata": {},
   "outputs": [
    {
     "name": "stderr",
     "output_type": "stream",
     "text": [
      "┌ Warning: `getindex(df::DataFrame, col_ind::ColumnIndex)` is deprecated, use `df[!, col_ind]` instead.\n",
      "│   caller = top-level scope at In[11]:1\n",
      "└ @ Core In[11]:1\n"
     ]
    },
    {
     "data": {
      "image/png": "[encoded data removed]"
     },
     "execution_count": 11,
     "metadata": {},
     "output_type": "execute_result"
    }
   ],
   "source": [
    " Plots.histogram((train[:ApplicantIncome]),bins=50,xlabel=\"ApplicantIncome\",labels=\"Frequency\")                       #Plot histogram"
   ]
  },
  {
   "cell_type": "code",
   "execution_count": 12,
   "metadata": {},
   "outputs": [
    {
     "name": "stderr",
     "output_type": "stream",
     "text": [
      "┌ Warning: `getindex(df::DataFrame, col_ind::ColumnIndex)` is deprecated, use `df[!, col_ind]` instead.\n",
      "│   caller = top-level scope at In[12]:1\n",
      "└ @ Core In[12]:1\n"
     ]
    },
    {
     "data": {
      "image/png": "[encoded data removed]"
     },
     "execution_count": 12,
     "metadata": {},
     "output_type": "execute_result"
    }
   ],
   "source": [
    " Plots.boxplot((train[:ApplicantIncome]), xlabel=\"ApplicantIncome\")\n"
   ]
  },
  {
   "cell_type": "code",
   "execution_count": 13,
   "metadata": {},
   "outputs": [
    {
     "name": "stderr",
     "output_type": "stream",
     "text": [
      "┌ Warning: `getindex(df::DataFrame, col_ind::ColumnIndex)` is deprecated, use `df[!, col_ind]` instead.\n",
      "│   caller = top-level scope at In[13]:1\n",
      "└ @ Core In[13]:1\n",
      "┌ Warning: `getindex(df::DataFrame, col_ind::ColumnIndex)` is deprecated, use `df[!, col_ind]` instead.\n",
      "│   caller = top-level scope at In[13]:1\n",
      "└ @ Core In[13]:1\n"
     ]
    },
    {
     "data": {
      "image/png": "[encoded data removed]"
     },
     "execution_count": 13,
     "metadata": {},
     "output_type": "execute_result"
    }
   ],
   "source": [
    "Plots.boxplot(train[:Education],train[:ApplicantIncome],labels=\"ApplicantIncome\")"
   ]
  },
  {
   "cell_type": "code",
   "execution_count": 14,
   "metadata": {},
   "outputs": [
    {
     "name": "stderr",
     "output_type": "stream",
     "text": [
      "┌ Warning: `getindex(df::DataFrame, col_ind::ColumnIndex)` is deprecated, use `df[!, col_ind]` instead.\n",
      "│   caller = top-level scope at In[14]:1\n",
      "└ @ Core In[14]:1\n"
     ]
    },
    {
     "data": {
      "image/png": "[encoded data removed]"
     },
     "execution_count": 14,
     "metadata": {},
     "output_type": "execute_result"
    }
   ],
   "source": [
    " Plots.histogram((train[:LoanAmount]),bins=50,xlabel=\"LoanAmount\",labels=\"Frequency\")"
   ]
  },
  {
   "cell_type": "code",
   "execution_count": 15,
   "metadata": {},
   "outputs": [
    {
     "name": "stderr",
     "output_type": "stream",
     "text": [
      "┌ Warning: `getindex(df::DataFrame, col_ind::ColumnIndex)` is deprecated, use `df[!, col_ind]` instead.\n",
      "│   caller = top-level scope at In[15]:2\n",
      "└ @ Core In[15]:2\n"
     ]
    },
    {
     "data": {
      "image/png": "[encoded data removed]"
     },
     "execution_count": 15,
     "metadata": {},
     "output_type": "execute_result"
    }
   ],
   "source": [
    "x=dropmissing(train,:LoanAmount)\n",
    "\n",
    "Plots.boxplot((x[:LoanAmount]), ylabel=\"LoanAmount\")"
   ]
  },
  {
   "cell_type": "code",
   "execution_count": 16,
   "metadata": {},
   "outputs": [
    {
     "name": "stderr",
     "output_type": "stream",
     "text": [
      "┌ Warning: `showcols(df::AbstractDataFrame, all::Bool=false, values::Bool=true)` is deprecated, use `describe(df, :eltype, :nmissing, :first, :last)` instead.\n",
      "│   caller = showcols(::DataFrame) at deprecated.jl:56\n",
      "└ @ DataFrames ./deprecated.jl:56\n"
     ]
    },
    {
     "data": {
      "text/html": [
       "<table class=\"data-frame\"><thead><tr><th></th><th>variable</th><th>eltype</th><th>nmissing</th><th>first</th><th>last</th></tr><tr><th></th><th>Symbol</th><th>DataType</th><th>Int64</th><th>Any</th><th>Any</th></tr></thead><tbody><p>13 rows × 5 columns</p><tr><th>1</th><td>Loan_ID</td><td>String</td><td>0</td><td>LP001002</td><td>LP002990</td></tr><tr><th>2</th><td>Gender</td><td>String</td><td>13</td><td>Male</td><td>Female</td></tr><tr><th>3</th><td>Married</td><td>String</td><td>3</td><td>No</td><td>No</td></tr><tr><th>4</th><td>Dependents</td><td>String</td><td>15</td><td>0</td><td>0</td></tr><tr><th>5</th><td>Education</td><td>String</td><td>0</td><td>Graduate</td><td>Graduate</td></tr><tr><th>6</th><td>Self_Employed</td><td>String</td><td>32</td><td>No</td><td>Yes</td></tr><tr><th>7</th><td>ApplicantIncome</td><td>Int64</td><td>0</td><td>5849</td><td>4583</td></tr><tr><th>8</th><td>CoapplicantIncome</td><td>Float64</td><td>0</td><td>0.0</td><td>0.0</td></tr><tr><th>9</th><td>LoanAmount</td><td>Int64</td><td>22</td><td>missing</td><td>133</td></tr><tr><th>10</th><td>Loan_Amount_Term</td><td>Int64</td><td>14</td><td>360</td><td>360</td></tr><tr><th>11</th><td>Credit_History</td><td>Int64</td><td>50</td><td>1</td><td>0</td></tr><tr><th>12</th><td>Property_Area</td><td>String</td><td>0</td><td>Urban</td><td>Semiurban</td></tr><tr><th>13</th><td>Loan_Status</td><td>String</td><td>0</td><td>Y</td><td>N</td></tr></tbody></table>"
      ],
      "text/latex": [
       "\\begin{tabular}{r|ccccc}\n",
       "\t& variable & eltype & nmissing & first & last\\\\\n",
       "\t\\hline\n",
       "\t& Symbol & DataType & Int64 & Any & Any\\\\\n",
       "\t\\hline\n",
       "\t1 & Loan\\_ID & String & 0 & LP001002 & LP002990 \\\\\n",
       "\t2 & Gender & String & 13 & Male & Female \\\\\n",
       "\t3 & Married & String & 3 & No & No \\\\\n",
       "\t4 & Dependents & String & 15 & 0 & 0 \\\\\n",
       "\t5 & Education & String & 0 & Graduate & Graduate \\\\\n",
       "\t6 & Self\\_Employed & String & 32 & No & Yes \\\\\n",
       "\t7 & ApplicantIncome & Int64 & 0 & 5849 & 4583 \\\\\n",
       "\t8 & CoapplicantIncome & Float64 & 0 & 0.0 & 0.0 \\\\\n",
       "\t9 & LoanAmount & Int64 & 22 &  & 133 \\\\\n",
       "\t10 & Loan\\_Amount\\_Term & Int64 & 14 & 360 & 360 \\\\\n",
       "\t11 & Credit\\_History & Int64 & 50 & 1 & 0 \\\\\n",
       "\t12 & Property\\_Area & String & 0 & Urban & Semiurban \\\\\n",
       "\t13 & Loan\\_Status & String & 0 & Y & N \\\\\n",
       "\\end{tabular}\n"
      ],
      "text/plain": [
       "13×5 DataFrame\n",
       "│ Row │ variable          │ eltype   │ nmissing │ first    │ last      │\n",
       "│     │ \u001b[90mSymbol\u001b[39m            │ \u001b[90mDataType\u001b[39m │ \u001b[90mInt64\u001b[39m    │ \u001b[90mAny\u001b[39m      │ \u001b[90mAny\u001b[39m       │\n",
       "├─────┼───────────────────┼──────────┼──────────┼──────────┼───────────┤\n",
       "│ 1   │ Loan_ID           │ String   │ 0        │ LP001002 │ LP002990  │\n",
       "│ 2   │ Gender            │ String   │ 13       │ Male     │ Female    │\n",
       "│ 3   │ Married           │ String   │ 3        │ No       │ No        │\n",
       "│ 4   │ Dependents        │ String   │ 15       │ 0        │ 0         │\n",
       "│ 5   │ Education         │ String   │ 0        │ Graduate │ Graduate  │\n",
       "│ 6   │ Self_Employed     │ String   │ 32       │ No       │ Yes       │\n",
       "│ 7   │ ApplicantIncome   │ Int64    │ 0        │ 5849     │ 4583      │\n",
       "│ 8   │ CoapplicantIncome │ Float64  │ 0        │ 0.0      │ 0.0       │\n",
       "│ 9   │ LoanAmount        │ Int64    │ 22       │ \u001b[90mmissing\u001b[39m  │ 133       │\n",
       "│ 10  │ Loan_Amount_Term  │ Int64    │ 14       │ 360      │ 360       │\n",
       "│ 11  │ Credit_History    │ Int64    │ 50       │ 1        │ 0         │\n",
       "│ 12  │ Property_Area     │ String   │ 0        │ Urban    │ Semiurban │\n",
       "│ 13  │ Loan_Status       │ String   │ 0        │ Y        │ N         │"
      ]
     },
     "execution_count": 16,
     "metadata": {},
     "output_type": "execute_result"
    }
   ],
   "source": [
    "showcols(train)"
   ]
  },
  {
   "cell_type": "code",
   "execution_count": 17,
   "metadata": {
    "scrolled": true
   },
   "outputs": [],
   "source": [
    "#replace missing loan amount with mean of loan amount\n",
    "# train[isna.(train[:LoanAmount]),:LoanAmount] = floor(mean(dropna(train[:LoanAmount])))\n",
    "# impute(train[:LoanAmount],:fill;limit=0.75)"
   ]
  },
  {
   "cell_type": "markdown",
   "metadata": {},
   "source": [
    "## Data Imputation\n",
    "#### Filling missing values and 0.0 in LoanAmount with mean"
   ]
  },
  {
   "cell_type": "code",
   "execution_count": 18,
   "metadata": {},
   "outputs": [
    {
     "name": "stderr",
     "output_type": "stream",
     "text": [
      "┌ Warning: `getindex(df::DataFrame, col_ind::ColumnIndex)` is deprecated, use `df[!, col_ind]` instead.\n",
      "│   caller = top-level scope at In[18]:1\n",
      "└ @ Core In[18]:1\n",
      "┌ Warning: `getindex(df::DataFrame, col_ind::ColumnIndex)` is deprecated, use `df[!, col_ind]` instead.\n",
      "│   caller = top-level scope at In[18]:1\n",
      "└ @ Core In[18]:1\n",
      "┌ Warning: implicit broadcasting in setindex! is deprecated; use `df[row_inds, col_ind] .= Ref(v)` broadcasting assignment to change the column in place\n",
      "│   caller = setindex!(::DataFrame, ::Float64, ::BitArray{1}, ::Symbol) at deprecated.jl:1503\n",
      "└ @ DataFrames /home/jismysebastian/.julia/packages/DataFrames/GoFnP/src/deprecated.jl:1503\n",
      "┌ Warning: `getindex(df::DataFrame, col_ind::ColumnIndex)` is deprecated, use `df[!, col_ind]` instead.\n",
      "│   caller = top-level scope at In[18]:2\n",
      "└ @ Core In[18]:2\n",
      "┌ Warning: `getindex(df::DataFrame, col_ind::ColumnIndex)` is deprecated, use `df[!, col_ind]` instead.\n",
      "│   caller = top-level scope at In[18]:2\n",
      "└ @ Core In[18]:2\n"
     ]
    },
    {
     "data": {
      "text/plain": [
       "144.0"
      ]
     },
     "execution_count": 18,
     "metadata": {},
     "output_type": "execute_result"
    }
   ],
   "source": [
    "train[ismissing.(train[:LoanAmount]),:LoanAmount]=floor(mean(dropmissing(train)[:LoanAmount]))\n",
    "train[train[:LoanAmount] .== 0, :LoanAmount] = floor(mean(dropmissing(train)[:LoanAmount]))\n"
   ]
  },
  {
   "cell_type": "markdown",
   "metadata": {},
   "source": [
    "#### replace missing gender, married, dependents, self employed , loan term and credit history columns with mode of gender values"
   ]
  },
  {
   "cell_type": "code",
   "execution_count": 19,
   "metadata": {},
   "outputs": [
    {
     "name": "stderr",
     "output_type": "stream",
     "text": [
      "┌ Warning: `getindex(df::DataFrame, col_ind::ColumnIndex)` is deprecated, use `df[!, col_ind]` instead.\n",
      "│   caller = top-level scope at In[19]:1\n",
      "└ @ Core In[19]:1\n",
      "┌ Warning: `getindex(df::DataFrame, col_ind::ColumnIndex)` is deprecated, use `df[!, col_ind]` instead.\n",
      "│   caller = top-level scope at In[19]:1\n",
      "└ @ Core In[19]:1\n",
      "┌ Warning: implicit broadcasting in setindex! is deprecated; use `df[row_inds, col_ind] .= Ref(v)` broadcasting assignment to change the column in place\n",
      "│   caller = setindex!(::DataFrame, ::String, ::BitArray{1}, ::Symbol) at deprecated.jl:1503\n",
      "└ @ DataFrames /home/jismysebastian/.julia/packages/DataFrames/GoFnP/src/deprecated.jl:1503\n",
      "┌ Warning: `getindex(df::DataFrame, col_ind::ColumnIndex)` is deprecated, use `df[!, col_ind]` instead.\n",
      "│   caller = top-level scope at In[19]:2\n",
      "└ @ Core In[19]:2\n",
      "┌ Warning: `getindex(df::DataFrame, col_ind::ColumnIndex)` is deprecated, use `df[!, col_ind]` instead.\n",
      "│   caller = top-level scope at In[19]:2\n",
      "└ @ Core In[19]:2\n",
      "┌ Warning: `getindex(df::DataFrame, col_ind::ColumnIndex)` is deprecated, use `df[!, col_ind]` instead.\n",
      "│   caller = top-level scope at In[19]:3\n",
      "└ @ Core In[19]:3\n",
      "┌ Warning: `getindex(df::DataFrame, col_ind::ColumnIndex)` is deprecated, use `df[!, col_ind]` instead.\n",
      "│   caller = top-level scope at In[19]:3\n",
      "└ @ Core In[19]:3\n",
      "┌ Warning: `getindex(df::DataFrame, col_ind::ColumnIndex)` is deprecated, use `df[!, col_ind]` instead.\n",
      "│   caller = top-level scope at In[19]:4\n",
      "└ @ Core In[19]:4\n",
      "┌ Warning: `getindex(df::DataFrame, col_ind::ColumnIndex)` is deprecated, use `df[!, col_ind]` instead.\n",
      "│   caller = top-level scope at In[19]:4\n",
      "└ @ Core In[19]:4\n",
      "┌ Warning: `getindex(df::DataFrame, col_ind::ColumnIndex)` is deprecated, use `df[!, col_ind]` instead.\n",
      "│   caller = top-level scope at In[19]:5\n",
      "└ @ Core In[19]:5\n",
      "┌ Warning: `getindex(df::DataFrame, col_ind::ColumnIndex)` is deprecated, use `df[!, col_ind]` instead.\n",
      "│   caller = top-level scope at In[19]:5\n",
      "└ @ Core In[19]:5\n",
      "┌ Warning: implicit broadcasting in setindex! is deprecated; use `df[row_inds, col_ind] .= Ref(v)` broadcasting assignment to change the column in place\n",
      "│   caller = setindex!(::DataFrame, ::Int64, ::BitArray{1}, ::Symbol) at deprecated.jl:1503\n",
      "└ @ DataFrames /home/jismysebastian/.julia/packages/DataFrames/GoFnP/src/deprecated.jl:1503\n",
      "┌ Warning: `getindex(df::DataFrame, col_ind::ColumnIndex)` is deprecated, use `df[!, col_ind]` instead.\n",
      "│   caller = top-level scope at In[19]:6\n",
      "└ @ Core In[19]:6\n",
      "┌ Warning: `getindex(df::DataFrame, col_ind::ColumnIndex)` is deprecated, use `df[!, col_ind]` instead.\n",
      "│   caller = top-level scope at In[19]:6\n",
      "└ @ Core In[19]:6\n"
     ]
    },
    {
     "data": {
      "text/plain": [
       "1"
      ]
     },
     "execution_count": 19,
     "metadata": {},
     "output_type": "execute_result"
    }
   ],
   "source": [
    "train[ismissing.(train[:Gender]), :Gender] = mode(dropmissing(train)[:Gender])\n",
    "train[ismissing.(train[:Married]),:Married] = mode(dropmissing(train)[:Married ])\n",
    "train[ismissing.(train[:Dependents]),:Dependents]= mode(dropmissing(train)[:Dependents])\n",
    "train[ismissing.(train[:Self_Employed]),:Self_Employed]= mode(dropmissing(train)[:Self_Employed])\n",
    "train[ismissing.(train[:Loan_Amount_Term]),:Loan_Amount_Term]= mode(dropmissing(train)[:Loan_Amount_Term])\n",
    "train[ismissing.(train[:Credit_History]),:Credit_History]= mode(dropmissing(train)[:Credit_History])"
   ]
  },
  {
   "cell_type": "markdown",
   "metadata": {},
   "source": [
    "### Imputing test data"
   ]
  },
  {
   "cell_type": "code",
   "execution_count": 20,
   "metadata": {},
   "outputs": [
    {
     "name": "stderr",
     "output_type": "stream",
     "text": [
      "┌ Warning: `getindex(df::DataFrame, col_ind::ColumnIndex)` is deprecated, use `df[!, col_ind]` instead.\n",
      "│   caller = top-level scope at In[20]:1\n",
      "└ @ Core In[20]:1\n",
      "┌ Warning: `getindex(df::DataFrame, col_ind::ColumnIndex)` is deprecated, use `df[!, col_ind]` instead.\n",
      "│   caller = top-level scope at In[20]:1\n",
      "└ @ Core In[20]:1\n",
      "┌ Warning: `getindex(df::DataFrame, col_ind::ColumnIndex)` is deprecated, use `df[!, col_ind]` instead.\n",
      "│   caller = top-level scope at In[20]:2\n",
      "└ @ Core In[20]:2\n",
      "┌ Warning: `getindex(df::DataFrame, col_ind::ColumnIndex)` is deprecated, use `df[!, col_ind]` instead.\n",
      "│   caller = top-level scope at In[20]:2\n",
      "└ @ Core In[20]:2\n",
      "┌ Warning: `getindex(df::DataFrame, col_ind::ColumnIndex)` is deprecated, use `df[!, col_ind]` instead.\n",
      "│   caller = top-level scope at In[20]:3\n",
      "└ @ Core In[20]:3\n",
      "┌ Warning: `getindex(df::DataFrame, col_ind::ColumnIndex)` is deprecated, use `df[!, col_ind]` instead.\n",
      "│   caller = top-level scope at In[20]:3\n",
      "└ @ Core In[20]:3\n",
      "┌ Warning: `getindex(df::DataFrame, col_ind::ColumnIndex)` is deprecated, use `df[!, col_ind]` instead.\n",
      "│   caller = top-level scope at In[20]:4\n",
      "└ @ Core In[20]:4\n",
      "┌ Warning: `getindex(df::DataFrame, col_ind::ColumnIndex)` is deprecated, use `df[!, col_ind]` instead.\n",
      "│   caller = top-level scope at In[20]:4\n",
      "└ @ Core In[20]:4\n",
      "┌ Warning: `getindex(df::DataFrame, col_ind::ColumnIndex)` is deprecated, use `df[!, col_ind]` instead.\n",
      "│   caller = top-level scope at In[20]:5\n",
      "└ @ Core In[20]:5\n",
      "┌ Warning: `getindex(df::DataFrame, col_ind::ColumnIndex)` is deprecated, use `df[!, col_ind]` instead.\n",
      "│   caller = top-level scope at In[20]:5\n",
      "└ @ Core In[20]:5\n",
      "┌ Warning: `getindex(df::DataFrame, col_ind::ColumnIndex)` is deprecated, use `df[!, col_ind]` instead.\n",
      "│   caller = top-level scope at In[20]:6\n",
      "└ @ Core In[20]:6\n",
      "┌ Warning: `getindex(df::DataFrame, col_ind::ColumnIndex)` is deprecated, use `df[!, col_ind]` instead.\n",
      "│   caller = top-level scope at In[20]:6\n",
      "└ @ Core In[20]:6\n",
      "┌ Warning: `getindex(df::DataFrame, col_ind::ColumnIndex)` is deprecated, use `df[!, col_ind]` instead.\n",
      "│   caller = top-level scope at In[20]:7\n",
      "└ @ Core In[20]:7\n",
      "┌ Warning: `getindex(df::DataFrame, col_ind::ColumnIndex)` is deprecated, use `df[!, col_ind]` instead.\n",
      "│   caller = top-level scope at In[20]:7\n",
      "└ @ Core In[20]:7\n",
      "┌ Warning: `getindex(df::DataFrame, col_ind::ColumnIndex)` is deprecated, use `df[!, col_ind]` instead.\n",
      "│   caller = top-level scope at In[20]:8\n",
      "└ @ Core In[20]:8\n",
      "┌ Warning: `getindex(df::DataFrame, col_ind::ColumnIndex)` is deprecated, use `df[!, col_ind]` instead.\n",
      "│   caller = top-level scope at In[20]:8\n",
      "└ @ Core In[20]:8\n"
     ]
    },
    {
     "data": {
      "text/plain": [
       "1"
      ]
     },
     "execution_count": 20,
     "metadata": {},
     "output_type": "execute_result"
    }
   ],
   "source": [
    "test[ismissing.(test[:LoanAmount]),:LoanAmount]=floor(mean(dropmissing(test)[:LoanAmount]))\n",
    "test[test[:LoanAmount] .== 0, :LoanAmount] = floor(mean(dropmissing(test)[:LoanAmount]))\n",
    "test[ismissing.(test[:Gender]), :Gender] = mode(dropmissing(test)[:Gender])\n",
    "test[ismissing.(test[:Married]),:Married] = mode(dropmissing(test)[:Married ])\n",
    "test[ismissing.(test[:Dependents]),:Dependents]= mode(dropmissing(test)[:Dependents])\n",
    "test[ismissing.(test[:Self_Employed]),:Self_Employed]= mode(dropmissing(test)[:Self_Employed])\n",
    "test[ismissing.(test[:Loan_Amount_Term]),:Loan_Amount_Term]= mode(dropmissing(test)[:Loan_Amount_Term])\n",
    "test[ismissing.(test[:Credit_History]),:Credit_History]= mode(dropmissing(test)[:Credit_History])"
   ]
  },
  {
   "cell_type": "code",
   "execution_count": 34,
   "metadata": {},
   "outputs": [
    {
     "name": "stderr",
     "output_type": "stream",
     "text": [
      "WARNING: redefining constant LabelEncoder\n",
      "┌ Warning: `getindex(df::DataFrame, col_ind::ColumnIndex)` is deprecated, use `df[!, col_ind]` instead.\n",
      "│   caller = top-level scope at In[34]:7\n",
      "└ @ Core ./In[34]:7\n",
      "┌ Warning: `setindex!(df::DataFrame, v::AbstractVector, col_ind::ColumnIndex)` is deprecated, use `begin\n",
      "│     df[!, col_ind] = v\n",
      "│     df\n",
      "│ end` instead.\n",
      "│   caller = top-level scope at In[34]:7\n",
      "└ @ Core ./In[34]:7\n",
      "┌ Warning: `length(df::AbstractDataFrame)` is deprecated, use `size(df, 2)` instead.\n",
      "│   caller = top-level scope at In[34]:8\n",
      "└ @ Core ./In[34]:8\n",
      "┌ Warning: `getindex(df::DataFrame, col_ind::ColumnIndex)` is deprecated, use `df[!, col_ind]` instead.\n",
      "│   caller = top-level scope at In[34]:9\n",
      "└ @ Core ./In[34]:9\n",
      "┌ Warning: `setindex!(df::DataFrame, v::AbstractVector, col_ind::ColumnIndex)` is deprecated, use `begin\n",
      "│     df[!, col_ind] = v\n",
      "│     df\n",
      "│ end` instead.\n",
      "│   caller = top-level scope at In[34]:9\n",
      "└ @ Core ./In[34]:9\n"
     ]
    }
   ],
   "source": [
    " using ScikitLearn \n",
    " @sk_import preprocessing: LabelEncoder \n",
    " labelencoder = LabelEncoder() \n",
    " categories = [2 3 4 5 6 12 13] \n",
    " \n",
    "for col in categories \n",
    "     train[col] = fit_transform!(labelencoder, train[col]) \n",
    "    if col<=length(test) \n",
    "    test[col]= fit_transform!(labelencoder,test[col])\n",
    "    end\n",
    " end"
   ]
  },
  {
   "cell_type": "code",
   "execution_count": 22,
   "metadata": {},
   "outputs": [
    {
     "name": "stderr",
     "output_type": "stream",
     "text": [
      "WARNING: redefining constant LabelEncoder\n",
      "┌ Warning: Module model_selection has been ported to Julia - try `import ScikitLearn: CrossValidation` instead\n",
      "└ @ ScikitLearn.Skcore /home/jismysebastian/.julia/packages/ScikitLearn/bo2Pt/src/Skcore.jl:140\n"
     ]
    },
    {
     "data": {
      "text/plain": [
       "PyObject <class 'sklearn.tree.tree.DecisionTreeClassifier'>"
      ]
     },
     "execution_count": 22,
     "metadata": {},
     "output_type": "execute_result"
    }
   ],
   "source": [
    " using ScikitLearn: fit!, predict, @sk_import, fit_transform! \n",
    " @sk_import preprocessing: LabelEncoder \n",
    " @sk_import model_selection: cross_val_score  \n",
    " @sk_import metrics: accuracy_score \n",
    " @sk_import linear_model: LogisticRegression \n",
    " @sk_import ensemble: RandomForestClassifier \n",
    " @sk_import tree: DecisionTreeClassifier "
   ]
  },
  {
   "cell_type": "code",
   "execution_count": 23,
   "metadata": {},
   "outputs": [
    {
     "data": {
      "text/plain": [
       "classification_model (generic function with 1 method)"
      ]
     },
     "execution_count": 23,
     "metadata": {},
     "output_type": "execute_result"
    }
   ],
   "source": [
    "\n",
    " function classification_model(model, predictors) \n",
    "     y = convert(Array, train[:13]) \n",
    "     X = convert(Array, train[predictors]) \n",
    "     X2 = convert(Array, test[predictors])                  \n",
    "     \n",
    "    #Fit the model: \n",
    "     fit!(model, X, y) \n",
    "\n",
    "     #Make predictions on training set: \n",
    "     predictions = predict(model, X) \n",
    "\n",
    "     #Print accuracy \n",
    "     accuracy = accuracy_score(predictions, y) \n",
    "     println(\"\\naccuracy: \",accuracy) \n",
    "\n",
    "     #5 fold cross validation \n",
    "     cross_score = cross_val_score(model, X, y, cv=5)    \n",
    " \n",
    "     #print cross_val_score \n",
    "     println(\"cross_validation_score: \", mean(cross_score)) \n",
    "\n",
    "     #return predictions \n",
    "     fit!(model, X, y) \n",
    "     pred = predict(model, X2) \n",
    "     return pred \n",
    " end"
   ]
  },
  {
   "cell_type": "code",
   "execution_count": 24,
   "metadata": {
    "scrolled": true
   },
   "outputs": [
    {
     "name": "stderr",
     "output_type": "stream",
     "text": [
      "┌ Warning: `getindex(df::DataFrame, col_ind::ColumnIndex)` is deprecated, use `df[!, col_ind]` instead.\n",
      "│   caller = classification_model(::PyCall.PyObject, ::Array{Symbol,1}) at In[23]:3\n",
      "└ @ Main ./In[23]:3\n",
      "┌ Warning: `getindex(df::DataFrame, col_inds::Union{AbstractVector, Regex, Not})` is deprecated, use `df[:, col_inds]` instead.\n",
      "│   caller = classification_model(::PyCall.PyObject, ::Array{Symbol,1}) at In[23]:4\n",
      "└ @ Main ./In[23]:4\n",
      "┌ Warning: `convert(::Type{Array}, df::AbstractDataFrame)` is deprecated, use `convert(Matrix, df)` instead.\n",
      "│   caller = classification_model(::PyCall.PyObject, ::Array{Symbol,1}) at In[23]:4\n",
      "└ @ Main ./In[23]:4\n",
      "┌ Warning: `getindex(df::DataFrame, col_inds::Union{AbstractVector, Regex, Not})` is deprecated, use `df[:, col_inds]` instead.\n",
      "│   caller = classification_model(::PyCall.PyObject, ::Array{Symbol,1}) at In[23]:5\n",
      "└ @ Main ./In[23]:5\n",
      "┌ Warning: `convert(::Type{Array}, df::AbstractDataFrame)` is deprecated, use `convert(Matrix, df)` instead.\n",
      "│   caller = classification_model(::PyCall.PyObject, ::Array{Symbol,1}) at In[23]:5\n",
      "└ @ Main ./In[23]:5\n"
     ]
    },
    {
     "name": "stdout",
     "output_type": "stream",
     "text": [
      "\n",
      "accuracy: 0.8094462540716613\n",
      "cross_validation_score: 0.8095716552088842\n"
     ]
    },
    {
     "data": {
      "text/plain": [
       "367-element Array{Int64,1}:\n",
       " 1\n",
       " 1\n",
       " 1\n",
       " 1\n",
       " 1\n",
       " 1\n",
       " 1\n",
       " 0\n",
       " 1\n",
       " 1\n",
       " 1\n",
       " 1\n",
       " 1\n",
       " ⋮\n",
       " 1\n",
       " 1\n",
       " 1\n",
       " 1\n",
       " 1\n",
       " 1\n",
       " 1\n",
       " 1\n",
       " 1\n",
       " 1\n",
       " 1\n",
       " 1"
      ]
     },
     "execution_count": 24,
     "metadata": {},
     "output_type": "execute_result"
    }
   ],
   "source": [
    "model = LogisticRegression()\n",
    "predictor_var = [:Credit_History]\n",
    "classification_model(model, predictor_var)"
   ]
  },
  {
   "cell_type": "code",
   "execution_count": 37,
   "metadata": {
    "scrolled": true
   },
   "outputs": [
    {
     "name": "stdout",
     "output_type": "stream",
     "text": [
      "\n",
      "accuracy: 0.8094462540716613\n",
      "cross_validation_score: 0.8095716552088842\n"
     ]
    },
    {
     "data": {
      "text/plain": [
       "367-element Array{Int64,1}:\n",
       " 1\n",
       " 1\n",
       " 1\n",
       " 1\n",
       " 1\n",
       " 1\n",
       " 1\n",
       " 0\n",
       " 1\n",
       " 1\n",
       " 1\n",
       " 1\n",
       " 1\n",
       " ⋮\n",
       " 1\n",
       " 1\n",
       " 1\n",
       " 1\n",
       " 1\n",
       " 1\n",
       " 1\n",
       " 1\n",
       " 1\n",
       " 1\n",
       " 1\n",
       " 1"
      ]
     },
     "execution_count": 37,
     "metadata": {},
     "output_type": "execute_result"
    }
   ],
   "source": [
    "predictor_var = [:Credit_History, :Education, :Married, :Self_Employed, :Property_Area]\n",
    "classification_model(model, predictor_var)"
   ]
  },
  {
   "cell_type": "code",
   "execution_count": 42,
   "metadata": {},
   "outputs": [
    {
     "name": "stdout",
     "output_type": "stream",
     "text": [
      "\n",
      "accuracy: 0.8094462540716613\n",
      "cross_validation_score: 0.8095716552088842\n"
     ]
    },
    {
     "data": {
      "text/plain": [
       "367-element Array{Int64,1}:\n",
       " 1\n",
       " 1\n",
       " 1\n",
       " 1\n",
       " 1\n",
       " 1\n",
       " 1\n",
       " 0\n",
       " 1\n",
       " 1\n",
       " 1\n",
       " 1\n",
       " 1\n",
       " ⋮\n",
       " 1\n",
       " 1\n",
       " 1\n",
       " 1\n",
       " 1\n",
       " 1\n",
       " 1\n",
       " 1\n",
       " 1\n",
       " 1\n",
       " 1\n",
       " 1"
      ]
     },
     "execution_count": 42,
     "metadata": {},
     "output_type": "execute_result"
    }
   ],
   "source": [
    "model = DecisionTreeClassifier()\n",
    "predictor_var = [:Credit_History, :Gender, :Married, :Education]\n",
    "classification_model(model, predictor_var)\n"
   ]
  },
  {
   "cell_type": "code",
   "execution_count": 44,
   "metadata": {},
   "outputs": [
    {
     "name": "stdout",
     "output_type": "stream",
     "text": [
      "\n",
      "accuracy: 0.8094462540716613\n",
      "cross_validation_score: 0.7819672131147541\n"
     ]
    },
    {
     "data": {
      "text/plain": [
       "367-element Array{Int64,1}:\n",
       " 1\n",
       " 1\n",
       " 1\n",
       " 1\n",
       " 1\n",
       " 1\n",
       " 1\n",
       " 0\n",
       " 1\n",
       " 1\n",
       " 1\n",
       " 1\n",
       " 1\n",
       " ⋮\n",
       " 1\n",
       " 1\n",
       " 1\n",
       " 1\n",
       " 1\n",
       " 1\n",
       " 1\n",
       " 1\n",
       " 1\n",
       " 1\n",
       " 1\n",
       " 0"
      ]
     },
     "execution_count": 44,
     "metadata": {},
     "output_type": "execute_result"
    }
   ],
   "source": [
    "#We can try different combinations of variables:\n",
    "predictor_var = [:Credit_History, :Education, :Married, :Self_Employed, :Property_Area]\n",
    "classification_model(model, predictor_var)"
   ]
  },
  {
   "cell_type": "code",
   "execution_count": 45,
   "metadata": {
    "scrolled": true
   },
   "outputs": [
    {
     "name": "stdout",
     "output_type": "stream",
     "text": [
      "\n",
      "accuracy: 0.9869706840390879\n",
      "cross_validation_score: 0.7606821787414066\n"
     ]
    },
    {
     "data": {
      "text/plain": [
       "367-element Array{Int64,1}:\n",
       " 0\n",
       " 1\n",
       " 1\n",
       " 0\n",
       " 0\n",
       " 0\n",
       " 1\n",
       " 0\n",
       " 1\n",
       " 1\n",
       " 0\n",
       " 0\n",
       " 1\n",
       " ⋮\n",
       " 1\n",
       " 1\n",
       " 1\n",
       " 1\n",
       " 1\n",
       " 1\n",
       " 1\n",
       " 1\n",
       " 1\n",
       " 0\n",
       " 0\n",
       " 1"
      ]
     },
     "execution_count": 45,
     "metadata": {},
     "output_type": "execute_result"
    }
   ],
   "source": [
    "model = RandomForestClassifier(n_estimators=100)\n",
    "predictors =[:Gender, :Married, :Dependents, :Education,\n",
    " :Self_Employed, :Loan_Amount_Term, :Credit_History, :Property_Area,\n",
    " :LoanAmount]\n",
    "classification_model(model, predictors)"
   ]
  },
  {
   "cell_type": "code",
   "execution_count": 47,
   "metadata": {},
   "outputs": [
    {
     "name": "stdout",
     "output_type": "stream",
     "text": [
      "\n",
      "accuracy: 0.8241042345276873\n",
      "cross_validation_score: 0.8047065044949762\n"
     ]
    },
    {
     "data": {
      "text/plain": [
       "367-element Array{Int64,1}:\n",
       " 1\n",
       " 1\n",
       " 1\n",
       " 1\n",
       " 1\n",
       " 1\n",
       " 1\n",
       " 0\n",
       " 1\n",
       " 1\n",
       " 1\n",
       " 1\n",
       " 1\n",
       " ⋮\n",
       " 1\n",
       " 1\n",
       " 1\n",
       " 1\n",
       " 1\n",
       " 1\n",
       " 1\n",
       " 1\n",
       " 1\n",
       " 1\n",
       " 1\n",
       " 1"
      ]
     },
     "execution_count": 47,
     "metadata": {},
     "output_type": "execute_result"
    }
   ],
   "source": [
    "model = RandomForestClassifier(n_estimators=100, min_samples_split=25, max_depth=8, n_jobs=-1)\n",
    "predictors = [:ApplicantIncome, :CoapplicantIncome, :LoanAmount, :Credit_History, :Loan_Amount_Term, :Gender, :Dependents]\n",
    "classification_model(model, predictors)"
   ]
  },
  {
   "cell_type": "code",
   "execution_count": 50,
   "metadata": {},
   "outputs": [
    {
     "name": "stderr",
     "output_type": "stream",
     "text": [
      "┌ Warning: `getindex(df::DataFrame, col_ind::ColumnIndex)` is deprecated, use `df[!, col_ind]` instead.\n",
      "│   caller = top-level scope at In[50]:2\n",
      "└ @ Core In[50]:2\n",
      "┌ Warning: writetable is deprecated, use CSV.write from the CSV package instead\n",
      "│   caller = top-level scope at In[50]:3\n",
      "└ @ Core In[50]:3\n"
     ]
    },
    {
     "ename": "MethodError",
     "evalue": "MethodError: no method matching printtable(::IOStream, ::DataFrame; header=true, separator=',', quotemark='\"', nastring=\"NA\")\nClosest candidates are:\n  printtable(::IO, ::AbstractDataFrame; header, separator, quotemark, missingstring) at /home/jismysebastian/.julia/packages/DataFrames/GoFnP/src/abstractdataframe/io.jl:338 got unsupported keyword argument \"nastring\"",
     "output_type": "error",
     "traceback": [
      "MethodError: no method matching printtable(::IOStream, ::DataFrame; header=true, separator=',', quotemark='\"', nastring=\"NA\")\nClosest candidates are:\n  printtable(::IO, ::AbstractDataFrame; header, separator, quotemark, missingstring) at /home/jismysebastian/.julia/packages/DataFrames/GoFnP/src/abstractdataframe/io.jl:338 got unsupported keyword argument \"nastring\"",
      "",
      "Stacktrace:",
      " [1] kwerr(::NamedTuple{(:header, :separator, :quotemark, :nastring),Tuple{Bool,Char,Char,String}}, ::Function, ::IOStream, ::DataFrame) at ./error.jl:125",
      " [2] (::getfield(DataFrames, Symbol(\"#kw##printtable\")))(::NamedTuple{(:header, :separator, :quotemark, :nastring),Tuple{Bool,Char,Char,String}}, ::typeof(DataFrames.printtable), ::IOStream, ::DataFrame) at ./none:0",
      " [3] (::getfield(DataFrames, Symbol(\"##357#359\")){Char,Char,String,DataFrame})(::IOStream) at /home/jismysebastian/.julia/packages/DataFrames/GoFnP/src/deprecated.jl:106",
      " [4] #open#310(::Base.Iterators.Pairs{Union{},Union{},Tuple{},NamedTuple{(),Tuple{}}}, ::Function, ::getfield(DataFrames, Symbol(\"##357#359\")){Char,Char,String,DataFrame}, ::String, ::Vararg{String,N} where N) at ./iostream.jl:375",
      " [5] open at ./iostream.jl:373 [inlined]",
      " [6] #writetable#355(::Bool, ::Char, ::Char, ::String, ::Bool, ::Function, ::String, ::DataFrame) at /home/jismysebastian/.julia/packages/DataFrames/GoFnP/src/deprecated.jl:105",
      " [7] writetable(::String, ::DataFrame) at /home/jismysebastian/.julia/packages/DataFrames/GoFnP/src/deprecated.jl:77",
      " [8] top-level scope at In[50]:3"
     ]
    }
   ],
   "source": [
    "pred = map(x-> if x==1 \"Y\" else \"N\" end, lrpred)  #Convert to \"Y\" and \"N\" \n",
    "outdf = DataFrame(Loan_ID=test[:Loan_ID], Loan_Status=pred)\n",
    "writetable(\"sub.csv\", outdf)"
   ]
  },
  {
   "cell_type": "code",
   "execution_count": null,
   "metadata": {},
   "outputs": [],
   "source": []
  }
 ],
 "metadata": {
  "kernelspec": {
   "display_name": "Julia 1.1.1",
   "language": "julia",
   "name": "julia-1.1"
  },
  "language_info": {
   "file_extension": ".jl",
   "mimetype": "application/julia",
   "name": "julia",
   "version": "1.1.1"
  }
 },
 "nbformat": 4,
 "nbformat_minor": 2
}
